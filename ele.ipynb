{
 "cells": [
  {
   "cell_type": "markdown",
   "metadata": {},
   "source": [
    "# Tarea Árboles de desición\n",
    "\n",
    "#### Equipo:\n",
    "\n",
    "**Aide Jazmín González Cruz**\n",
    "\n",
    "**Yusuri Arciga Reyes**\n",
    "\n",
    "**Elena Villalobos Nolasco**"
   ]
  },
  {
   "cell_type": "markdown",
   "metadata": {},
   "source": [
    "El objetivo de la última tarea consistirá en modificar el Jupyter notebook que se proporcionó con el código CaRT para que además de resolver problemas de clasificación sirva para resolver problemas de regresión. Probarlo con el set de datos de bateadores que se utilizó en clase para que puedan validar que está funcionando bien. Compararlo contra el resultado en R. Para ello habrá que importar el data frame de R en python y convertirlo en una lista de listas."
   ]
  },
  {
   "cell_type": "code",
   "execution_count": 60,
   "metadata": {},
   "outputs": [],
   "source": [
    "# Importando librerias necesarias\n",
    "import pandas as pd\n",
    "import numpy as np\n",
    "import statistics"
   ]
  },
  {
   "cell_type": "markdown",
   "metadata": {},
   "source": [
    "Cargando datos"
   ]
  },
  {
   "cell_type": "code",
   "execution_count": 61,
   "metadata": {},
   "outputs": [
    {
     "data": {
      "text/plain": [
       "(263, 21)"
      ]
     },
     "execution_count": 61,
     "metadata": {},
     "output_type": "execute_result"
    }
   ],
   "source": [
    "hitters = pd.read_csv('Hitters.csv')\n",
    "hitters.shape"
   ]
  },
  {
   "cell_type": "code",
   "execution_count": 62,
   "metadata": {},
   "outputs": [
    {
     "data": {
      "text/html": [
       "<div>\n",
       "<style scoped>\n",
       "    .dataframe tbody tr th:only-of-type {\n",
       "        vertical-align: middle;\n",
       "    }\n",
       "\n",
       "    .dataframe tbody tr th {\n",
       "        vertical-align: top;\n",
       "    }\n",
       "\n",
       "    .dataframe thead th {\n",
       "        text-align: right;\n",
       "    }\n",
       "</style>\n",
       "<table border=\"1\" class=\"dataframe\">\n",
       "  <thead>\n",
       "    <tr style=\"text-align: right;\">\n",
       "      <th></th>\n",
       "      <th>AtBat</th>\n",
       "      <th>Hits</th>\n",
       "      <th>HmRun</th>\n",
       "      <th>Runs</th>\n",
       "      <th>RBI</th>\n",
       "      <th>Walks</th>\n",
       "      <th>Years</th>\n",
       "      <th>CAtBat</th>\n",
       "      <th>CHits</th>\n",
       "      <th>CHmRun</th>\n",
       "      <th>CRuns</th>\n",
       "      <th>CRBI</th>\n",
       "      <th>CWalks</th>\n",
       "      <th>League</th>\n",
       "      <th>Division</th>\n",
       "      <th>PutOuts</th>\n",
       "      <th>Assists</th>\n",
       "      <th>Errors</th>\n",
       "      <th>Salary</th>\n",
       "      <th>NewLeague</th>\n",
       "    </tr>\n",
       "  </thead>\n",
       "  <tbody>\n",
       "    <tr>\n",
       "      <th>0</th>\n",
       "      <td>315</td>\n",
       "      <td>81</td>\n",
       "      <td>7</td>\n",
       "      <td>24</td>\n",
       "      <td>38</td>\n",
       "      <td>39</td>\n",
       "      <td>14</td>\n",
       "      <td>3449</td>\n",
       "      <td>835</td>\n",
       "      <td>69</td>\n",
       "      <td>321</td>\n",
       "      <td>414</td>\n",
       "      <td>375</td>\n",
       "      <td>N</td>\n",
       "      <td>W</td>\n",
       "      <td>632</td>\n",
       "      <td>43</td>\n",
       "      <td>10</td>\n",
       "      <td>6.163315</td>\n",
       "      <td>N</td>\n",
       "    </tr>\n",
       "    <tr>\n",
       "      <th>1</th>\n",
       "      <td>479</td>\n",
       "      <td>130</td>\n",
       "      <td>18</td>\n",
       "      <td>66</td>\n",
       "      <td>72</td>\n",
       "      <td>76</td>\n",
       "      <td>3</td>\n",
       "      <td>1624</td>\n",
       "      <td>457</td>\n",
       "      <td>63</td>\n",
       "      <td>224</td>\n",
       "      <td>266</td>\n",
       "      <td>263</td>\n",
       "      <td>A</td>\n",
       "      <td>W</td>\n",
       "      <td>880</td>\n",
       "      <td>82</td>\n",
       "      <td>14</td>\n",
       "      <td>6.173786</td>\n",
       "      <td>A</td>\n",
       "    </tr>\n",
       "    <tr>\n",
       "      <th>2</th>\n",
       "      <td>496</td>\n",
       "      <td>141</td>\n",
       "      <td>20</td>\n",
       "      <td>65</td>\n",
       "      <td>78</td>\n",
       "      <td>37</td>\n",
       "      <td>11</td>\n",
       "      <td>5628</td>\n",
       "      <td>1575</td>\n",
       "      <td>225</td>\n",
       "      <td>828</td>\n",
       "      <td>838</td>\n",
       "      <td>354</td>\n",
       "      <td>N</td>\n",
       "      <td>E</td>\n",
       "      <td>200</td>\n",
       "      <td>11</td>\n",
       "      <td>3</td>\n",
       "      <td>6.214608</td>\n",
       "      <td>N</td>\n",
       "    </tr>\n",
       "    <tr>\n",
       "      <th>3</th>\n",
       "      <td>321</td>\n",
       "      <td>87</td>\n",
       "      <td>10</td>\n",
       "      <td>39</td>\n",
       "      <td>42</td>\n",
       "      <td>30</td>\n",
       "      <td>2</td>\n",
       "      <td>396</td>\n",
       "      <td>101</td>\n",
       "      <td>12</td>\n",
       "      <td>48</td>\n",
       "      <td>46</td>\n",
       "      <td>33</td>\n",
       "      <td>N</td>\n",
       "      <td>E</td>\n",
       "      <td>805</td>\n",
       "      <td>40</td>\n",
       "      <td>4</td>\n",
       "      <td>4.516339</td>\n",
       "      <td>N</td>\n",
       "    </tr>\n",
       "    <tr>\n",
       "      <th>4</th>\n",
       "      <td>594</td>\n",
       "      <td>169</td>\n",
       "      <td>4</td>\n",
       "      <td>74</td>\n",
       "      <td>51</td>\n",
       "      <td>35</td>\n",
       "      <td>11</td>\n",
       "      <td>4408</td>\n",
       "      <td>1133</td>\n",
       "      <td>19</td>\n",
       "      <td>501</td>\n",
       "      <td>336</td>\n",
       "      <td>194</td>\n",
       "      <td>A</td>\n",
       "      <td>W</td>\n",
       "      <td>282</td>\n",
       "      <td>421</td>\n",
       "      <td>25</td>\n",
       "      <td>6.620073</td>\n",
       "      <td>A</td>\n",
       "    </tr>\n",
       "  </tbody>\n",
       "</table>\n",
       "</div>"
      ],
      "text/plain": [
       "   AtBat  Hits  HmRun  Runs  RBI  Walks  Years  CAtBat  CHits  CHmRun  CRuns  \\\n",
       "0    315    81      7    24   38     39     14    3449    835      69    321   \n",
       "1    479   130     18    66   72     76      3    1624    457      63    224   \n",
       "2    496   141     20    65   78     37     11    5628   1575     225    828   \n",
       "3    321    87     10    39   42     30      2     396    101      12     48   \n",
       "4    594   169      4    74   51     35     11    4408   1133      19    501   \n",
       "\n",
       "   CRBI  CWalks League Division  PutOuts  Assists  Errors    Salary NewLeague  \n",
       "0   414     375      N        W      632       43      10  6.163315         N  \n",
       "1   266     263      A        W      880       82      14  6.173786         A  \n",
       "2   838     354      N        E      200       11       3  6.214608         N  \n",
       "3    46      33      N        E      805       40       4  4.516339         N  \n",
       "4   336     194      A        W      282      421      25  6.620073         A  "
      ]
     },
     "execution_count": 62,
     "metadata": {},
     "output_type": "execute_result"
    }
   ],
   "source": [
    "# Delete first column (names)\n",
    "hitters.drop(hitters.columns[[0]], axis=1, inplace=True)\n",
    "hitters.head(5)"
   ]
  },
  {
   "cell_type": "markdown",
   "metadata": {},
   "source": [
    "Si se usan todas las variables incluyendo las categóricas, estás serían algunos inputs en las funciones."
   ]
  },
  {
   "cell_type": "code",
   "execution_count": 63,
   "metadata": {},
   "outputs": [],
   "source": [
    "num_col_salary = 18\n",
    "# Column labels.\n",
    "# These are used only to print the tree.\n",
    "header = [\"AtBat\",\"Hits\",\"HmRun\",\"Runs\",\"RBI\",\"Walks\",\"Years\",    \n",
    "          \"CAtBat\",\"CHits\",\"CHmRun\",\"CRuns\",\"CRBI\",\"CWalks\",\"League\" ,  \n",
    "          \"Division\",\"PutOuts\",\"Assists\",\"Errors\",\"Salary\",\"NewLeague\",\n",
    "          \"salary_c\"]"
   ]
  },
  {
   "cell_type": "code",
   "execution_count": 64,
   "metadata": {},
   "outputs": [
    {
     "data": {
      "text/html": [
       "<div>\n",
       "<style scoped>\n",
       "    .dataframe tbody tr th:only-of-type {\n",
       "        vertical-align: middle;\n",
       "    }\n",
       "\n",
       "    .dataframe tbody tr th {\n",
       "        vertical-align: top;\n",
       "    }\n",
       "\n",
       "    .dataframe thead th {\n",
       "        text-align: right;\n",
       "    }\n",
       "</style>\n",
       "<table border=\"1\" class=\"dataframe\">\n",
       "  <thead>\n",
       "    <tr style=\"text-align: right;\">\n",
       "      <th></th>\n",
       "      <th>AtBat</th>\n",
       "      <th>Hits</th>\n",
       "      <th>HmRun</th>\n",
       "      <th>Runs</th>\n",
       "      <th>RBI</th>\n",
       "      <th>Walks</th>\n",
       "      <th>Years</th>\n",
       "      <th>CAtBat</th>\n",
       "      <th>CHits</th>\n",
       "      <th>CHmRun</th>\n",
       "      <th>CRuns</th>\n",
       "      <th>CRBI</th>\n",
       "      <th>CWalks</th>\n",
       "      <th>PutOuts</th>\n",
       "      <th>Assists</th>\n",
       "      <th>Errors</th>\n",
       "      <th>Salary</th>\n",
       "    </tr>\n",
       "  </thead>\n",
       "  <tbody>\n",
       "    <tr>\n",
       "      <th>0</th>\n",
       "      <td>315</td>\n",
       "      <td>81</td>\n",
       "      <td>7</td>\n",
       "      <td>24</td>\n",
       "      <td>38</td>\n",
       "      <td>39</td>\n",
       "      <td>14</td>\n",
       "      <td>3449</td>\n",
       "      <td>835</td>\n",
       "      <td>69</td>\n",
       "      <td>321</td>\n",
       "      <td>414</td>\n",
       "      <td>375</td>\n",
       "      <td>632</td>\n",
       "      <td>43</td>\n",
       "      <td>10</td>\n",
       "      <td>6.163315</td>\n",
       "    </tr>\n",
       "    <tr>\n",
       "      <th>1</th>\n",
       "      <td>479</td>\n",
       "      <td>130</td>\n",
       "      <td>18</td>\n",
       "      <td>66</td>\n",
       "      <td>72</td>\n",
       "      <td>76</td>\n",
       "      <td>3</td>\n",
       "      <td>1624</td>\n",
       "      <td>457</td>\n",
       "      <td>63</td>\n",
       "      <td>224</td>\n",
       "      <td>266</td>\n",
       "      <td>263</td>\n",
       "      <td>880</td>\n",
       "      <td>82</td>\n",
       "      <td>14</td>\n",
       "      <td>6.173786</td>\n",
       "    </tr>\n",
       "    <tr>\n",
       "      <th>2</th>\n",
       "      <td>496</td>\n",
       "      <td>141</td>\n",
       "      <td>20</td>\n",
       "      <td>65</td>\n",
       "      <td>78</td>\n",
       "      <td>37</td>\n",
       "      <td>11</td>\n",
       "      <td>5628</td>\n",
       "      <td>1575</td>\n",
       "      <td>225</td>\n",
       "      <td>828</td>\n",
       "      <td>838</td>\n",
       "      <td>354</td>\n",
       "      <td>200</td>\n",
       "      <td>11</td>\n",
       "      <td>3</td>\n",
       "      <td>6.214608</td>\n",
       "    </tr>\n",
       "    <tr>\n",
       "      <th>3</th>\n",
       "      <td>321</td>\n",
       "      <td>87</td>\n",
       "      <td>10</td>\n",
       "      <td>39</td>\n",
       "      <td>42</td>\n",
       "      <td>30</td>\n",
       "      <td>2</td>\n",
       "      <td>396</td>\n",
       "      <td>101</td>\n",
       "      <td>12</td>\n",
       "      <td>48</td>\n",
       "      <td>46</td>\n",
       "      <td>33</td>\n",
       "      <td>805</td>\n",
       "      <td>40</td>\n",
       "      <td>4</td>\n",
       "      <td>4.516339</td>\n",
       "    </tr>\n",
       "    <tr>\n",
       "      <th>4</th>\n",
       "      <td>594</td>\n",
       "      <td>169</td>\n",
       "      <td>4</td>\n",
       "      <td>74</td>\n",
       "      <td>51</td>\n",
       "      <td>35</td>\n",
       "      <td>11</td>\n",
       "      <td>4408</td>\n",
       "      <td>1133</td>\n",
       "      <td>19</td>\n",
       "      <td>501</td>\n",
       "      <td>336</td>\n",
       "      <td>194</td>\n",
       "      <td>282</td>\n",
       "      <td>421</td>\n",
       "      <td>25</td>\n",
       "      <td>6.620073</td>\n",
       "    </tr>\n",
       "    <tr>\n",
       "      <th>...</th>\n",
       "      <td>...</td>\n",
       "      <td>...</td>\n",
       "      <td>...</td>\n",
       "      <td>...</td>\n",
       "      <td>...</td>\n",
       "      <td>...</td>\n",
       "      <td>...</td>\n",
       "      <td>...</td>\n",
       "      <td>...</td>\n",
       "      <td>...</td>\n",
       "      <td>...</td>\n",
       "      <td>...</td>\n",
       "      <td>...</td>\n",
       "      <td>...</td>\n",
       "      <td>...</td>\n",
       "      <td>...</td>\n",
       "      <td>...</td>\n",
       "    </tr>\n",
       "    <tr>\n",
       "      <th>258</th>\n",
       "      <td>497</td>\n",
       "      <td>127</td>\n",
       "      <td>7</td>\n",
       "      <td>65</td>\n",
       "      <td>48</td>\n",
       "      <td>37</td>\n",
       "      <td>5</td>\n",
       "      <td>2703</td>\n",
       "      <td>806</td>\n",
       "      <td>32</td>\n",
       "      <td>379</td>\n",
       "      <td>311</td>\n",
       "      <td>138</td>\n",
       "      <td>325</td>\n",
       "      <td>9</td>\n",
       "      <td>3</td>\n",
       "      <td>6.551080</td>\n",
       "    </tr>\n",
       "    <tr>\n",
       "      <th>259</th>\n",
       "      <td>492</td>\n",
       "      <td>136</td>\n",
       "      <td>5</td>\n",
       "      <td>76</td>\n",
       "      <td>50</td>\n",
       "      <td>94</td>\n",
       "      <td>12</td>\n",
       "      <td>5511</td>\n",
       "      <td>1511</td>\n",
       "      <td>39</td>\n",
       "      <td>897</td>\n",
       "      <td>451</td>\n",
       "      <td>875</td>\n",
       "      <td>313</td>\n",
       "      <td>381</td>\n",
       "      <td>20</td>\n",
       "      <td>6.774224</td>\n",
       "    </tr>\n",
       "    <tr>\n",
       "      <th>260</th>\n",
       "      <td>475</td>\n",
       "      <td>126</td>\n",
       "      <td>3</td>\n",
       "      <td>61</td>\n",
       "      <td>43</td>\n",
       "      <td>52</td>\n",
       "      <td>6</td>\n",
       "      <td>1700</td>\n",
       "      <td>433</td>\n",
       "      <td>7</td>\n",
       "      <td>217</td>\n",
       "      <td>93</td>\n",
       "      <td>146</td>\n",
       "      <td>37</td>\n",
       "      <td>113</td>\n",
       "      <td>7</td>\n",
       "      <td>5.953243</td>\n",
       "    </tr>\n",
       "    <tr>\n",
       "      <th>261</th>\n",
       "      <td>573</td>\n",
       "      <td>144</td>\n",
       "      <td>9</td>\n",
       "      <td>85</td>\n",
       "      <td>60</td>\n",
       "      <td>78</td>\n",
       "      <td>8</td>\n",
       "      <td>3198</td>\n",
       "      <td>857</td>\n",
       "      <td>97</td>\n",
       "      <td>470</td>\n",
       "      <td>420</td>\n",
       "      <td>332</td>\n",
       "      <td>1314</td>\n",
       "      <td>131</td>\n",
       "      <td>12</td>\n",
       "      <td>6.866933</td>\n",
       "    </tr>\n",
       "    <tr>\n",
       "      <th>262</th>\n",
       "      <td>631</td>\n",
       "      <td>170</td>\n",
       "      <td>9</td>\n",
       "      <td>77</td>\n",
       "      <td>44</td>\n",
       "      <td>31</td>\n",
       "      <td>11</td>\n",
       "      <td>4908</td>\n",
       "      <td>1457</td>\n",
       "      <td>30</td>\n",
       "      <td>775</td>\n",
       "      <td>357</td>\n",
       "      <td>249</td>\n",
       "      <td>408</td>\n",
       "      <td>4</td>\n",
       "      <td>3</td>\n",
       "      <td>6.907755</td>\n",
       "    </tr>\n",
       "  </tbody>\n",
       "</table>\n",
       "<p>263 rows × 17 columns</p>\n",
       "</div>"
      ],
      "text/plain": [
       "     AtBat  Hits  HmRun  Runs  RBI  Walks  Years  CAtBat  CHits  CHmRun  \\\n",
       "0      315    81      7    24   38     39     14    3449    835      69   \n",
       "1      479   130     18    66   72     76      3    1624    457      63   \n",
       "2      496   141     20    65   78     37     11    5628   1575     225   \n",
       "3      321    87     10    39   42     30      2     396    101      12   \n",
       "4      594   169      4    74   51     35     11    4408   1133      19   \n",
       "..     ...   ...    ...   ...  ...    ...    ...     ...    ...     ...   \n",
       "258    497   127      7    65   48     37      5    2703    806      32   \n",
       "259    492   136      5    76   50     94     12    5511   1511      39   \n",
       "260    475   126      3    61   43     52      6    1700    433       7   \n",
       "261    573   144      9    85   60     78      8    3198    857      97   \n",
       "262    631   170      9    77   44     31     11    4908   1457      30   \n",
       "\n",
       "     CRuns  CRBI  CWalks  PutOuts  Assists  Errors    Salary  \n",
       "0      321   414     375      632       43      10  6.163315  \n",
       "1      224   266     263      880       82      14  6.173786  \n",
       "2      828   838     354      200       11       3  6.214608  \n",
       "3       48    46      33      805       40       4  4.516339  \n",
       "4      501   336     194      282      421      25  6.620073  \n",
       "..     ...   ...     ...      ...      ...     ...       ...  \n",
       "258    379   311     138      325        9       3  6.551080  \n",
       "259    897   451     875      313      381      20  6.774224  \n",
       "260    217    93     146       37      113       7  5.953243  \n",
       "261    470   420     332     1314      131      12  6.866933  \n",
       "262    775   357     249      408        4       3  6.907755  \n",
       "\n",
       "[263 rows x 17 columns]"
      ]
     },
     "execution_count": 64,
     "metadata": {},
     "output_type": "execute_result"
    }
   ],
   "source": [
    "# DEjando sólo las variable númericas\n",
    "hitters.drop(['League'], axis=1, inplace=True)\n",
    "hitters.drop(['Division'], axis=1, inplace=True)\n",
    "hitters.drop(['NewLeague'], axis=1, inplace=True)\n",
    "hitters"
   ]
  },
  {
   "cell_type": "code",
   "execution_count": 65,
   "metadata": {},
   "outputs": [
    {
     "data": {
      "text/html": [
       "<div>\n",
       "<style scoped>\n",
       "    .dataframe tbody tr th:only-of-type {\n",
       "        vertical-align: middle;\n",
       "    }\n",
       "\n",
       "    .dataframe tbody tr th {\n",
       "        vertical-align: top;\n",
       "    }\n",
       "\n",
       "    .dataframe thead th {\n",
       "        text-align: right;\n",
       "    }\n",
       "</style>\n",
       "<table border=\"1\" class=\"dataframe\">\n",
       "  <thead>\n",
       "    <tr style=\"text-align: right;\">\n",
       "      <th></th>\n",
       "      <th>Hits</th>\n",
       "      <th>Years</th>\n",
       "      <th>Salary</th>\n",
       "    </tr>\n",
       "  </thead>\n",
       "  <tbody>\n",
       "    <tr>\n",
       "      <th>0</th>\n",
       "      <td>81</td>\n",
       "      <td>14</td>\n",
       "      <td>6.163315</td>\n",
       "    </tr>\n",
       "    <tr>\n",
       "      <th>1</th>\n",
       "      <td>130</td>\n",
       "      <td>3</td>\n",
       "      <td>6.173786</td>\n",
       "    </tr>\n",
       "    <tr>\n",
       "      <th>2</th>\n",
       "      <td>141</td>\n",
       "      <td>11</td>\n",
       "      <td>6.214608</td>\n",
       "    </tr>\n",
       "    <tr>\n",
       "      <th>3</th>\n",
       "      <td>87</td>\n",
       "      <td>2</td>\n",
       "      <td>4.516339</td>\n",
       "    </tr>\n",
       "    <tr>\n",
       "      <th>4</th>\n",
       "      <td>169</td>\n",
       "      <td>11</td>\n",
       "      <td>6.620073</td>\n",
       "    </tr>\n",
       "  </tbody>\n",
       "</table>\n",
       "</div>"
      ],
      "text/plain": [
       "   Hits  Years    Salary\n",
       "0    81     14  6.163315\n",
       "1   130      3  6.173786\n",
       "2   141     11  6.214608\n",
       "3    87      2  4.516339\n",
       "4   169     11  6.620073"
      ]
     },
     "execution_count": 65,
     "metadata": {},
     "output_type": "execute_result"
    }
   ],
   "source": [
    "quitar = [\"AtBat\",\"HmRun\",\"Runs\",\"RBI\",\"Walks\",  \n",
    "          \"CAtBat\",\"CHits\",\"CHmRun\",\"CRuns\",\"CRBI\",\"CWalks\",\n",
    "          \"PutOuts\",\"Assists\",\"Errors\"]\n",
    "hits_years = hitters.copy()\n",
    "hits_years = pd.DataFrame(hits_years.drop(quitar, axis=1))\n",
    "hits_years.head(5)"
   ]
  },
  {
   "cell_type": "markdown",
   "metadata": {},
   "source": [
    "Pasando a Lista de Listas"
   ]
  },
  {
   "cell_type": "markdown",
   "metadata": {},
   "source": [
    "- Para todas las variable númericas"
   ]
  },
  {
   "cell_type": "code",
   "execution_count": 66,
   "metadata": {},
   "outputs": [],
   "source": [
    "hitters_lol = hitters.values.tolist()"
   ]
  },
  {
   "cell_type": "markdown",
   "metadata": {},
   "source": [
    "- Sólo usando `hits` y `years`"
   ]
  },
  {
   "cell_type": "code",
   "execution_count": 67,
   "metadata": {},
   "outputs": [],
   "source": [
    "hits_years_lol = hits_years.values.tolist()"
   ]
  },
  {
   "cell_type": "markdown",
   "metadata": {},
   "source": [
    "## Funciones realizadas para variables continúas"
   ]
  },
  {
   "cell_type": "code",
   "execution_count": 68,
   "metadata": {},
   "outputs": [],
   "source": [
    "def unique_vals(rows, col):\n",
    "    \"\"\"Find the unique values for a column in a dataset.\"\"\"\n",
    "    return set([row[col] for row in rows])\n",
    "    #set regresa un conjunto({}) y regresa valores únicos"
   ]
  },
  {
   "cell_type": "code",
   "execution_count": 69,
   "metadata": {},
   "outputs": [],
   "source": [
    "def is_numeric(value):\n",
    "    \"\"\"Test if a value is numeric.\"\"\"\n",
    "    return isinstance(value, int) or isinstance(value, float)"
   ]
  },
  {
   "cell_type": "code",
   "execution_count": 70,
   "metadata": {},
   "outputs": [],
   "source": [
    "def class_counts(rows):\n",
    "    \"\"\"Counts the number of each type of example in a dataset.\"\"\"\n",
    "    counts = {}  # a dictionary of label -> count.\n",
    "    for row in rows:\n",
    "        # in our dataset format, the label is always the last column\n",
    "        label = row[-1]\n",
    "        if label not in counts:\n",
    "            counts[label] = 0\n",
    "        counts[label] += 1\n",
    "    return counts"
   ]
  },
  {
   "cell_type": "code",
   "execution_count": 71,
   "metadata": {},
   "outputs": [],
   "source": [
    "class Question:\n",
    "    \"\"\"A Question is used to partition a dataset.\n",
    "    This class just records a 'column number' (e.g., 0 for Color) and a\n",
    "    'column value' (e.g., Green). The 'match' method is used to compare\n",
    "    the feature value in an example to the feature value stored in the\n",
    "    question. See the demo below.\n",
    "    \"\"\"\n",
    "    def __init__(self, column, value):\n",
    "        self.column = column\n",
    "        self.value = value\n",
    "\n",
    "    def match(self, example):\n",
    "        # Compare the feature value in an example to the\n",
    "        # feature value in this question.\n",
    "        val = example[self.column]\n",
    "        if is_numeric(val):\n",
    "            return val >= self.value\n",
    "        else:\n",
    "            return val == self.value\n",
    "\n",
    "    def __repr__(self):\n",
    "        # This is just a helper method to print\n",
    "        # the question in a readable format.\n",
    "        condition = \"==\"\n",
    "        if is_numeric(self.value):\n",
    "            condition = \">=\"\n",
    "        return \"Is %s %s %s?\" % (\n",
    "            header[self.column], condition, str(self.value))"
   ]
  },
  {
   "cell_type": "code",
   "execution_count": 72,
   "metadata": {},
   "outputs": [],
   "source": [
    "def partition(rows, question):\n",
    "    \"\"\"Partitions a dataset.\n",
    "\n",
    "    For each row in the dataset, check if it matches the question. If\n",
    "    so, add it to 'true rows', otherwise, add it to 'false rows'.\n",
    "    \"\"\"\n",
    "    true_rows, false_rows = [], []\n",
    "    for row in rows:\n",
    "        if question.match(row):\n",
    "            true_rows.append(row)\n",
    "        else:\n",
    "            false_rows.append(row)\n",
    "    return true_rows, false_rows"
   ]
  },
  {
   "cell_type": "code",
   "execution_count": 73,
   "metadata": {},
   "outputs": [],
   "source": [
    "# Para clasificación\n",
    "def gini(rows):\n",
    "    \"\"\"Calculate the Gini Impurity for a list of rows.\n",
    "    There are a few different ways to do this, I thought this one was\n",
    "    the most concise. See:\n",
    "    https://en.wikipedia.org/wiki/Decision_tree_learning#Gini_impurity\n",
    "    \"\"\"\n",
    "    counts = class_counts(rows)\n",
    "    impurity = 1\n",
    "    for lbl in counts:\n",
    "        prob_of_lbl = counts[lbl] / float(len(rows))\n",
    "        impurity -= prob_of_lbl**2\n",
    "    return impurity\n",
    "\n",
    "#RSS"
   ]
  },
  {
   "cell_type": "code",
   "execution_count": 74,
   "metadata": {},
   "outputs": [],
   "source": [
    "# Caída del Gini\n",
    "def info_gain(left, right, current_uncertainty):\n",
    "    \"\"\"Information Gain.\n",
    "    The uncertainty of the starting node, minus the weighted impurity of\n",
    "    two child nodes.\n",
    "    \"\"\"\n",
    "    p = float(len(left)) / (len(left) + len(right))\n",
    "    return current_uncertainty - p * gini(left) - (1 - p) * gini(right)"
   ]
  },
  {
   "cell_type": "code",
   "execution_count": 75,
   "metadata": {},
   "outputs": [],
   "source": [
    "# Función para obtener promedios entre valores\n",
    "def promedio(lista):\n",
    "    #print(lista)\n",
    "    prom = []\n",
    "    for i in range(len(lista)-1):\n",
    "        prom.append((lista[i]+lista[i+1])/2)\n",
    "    return prom"
   ]
  },
  {
   "cell_type": "code",
   "execution_count": 76,
   "metadata": {},
   "outputs": [],
   "source": [
    "# Extrae una columna de una lista de listas dada\n",
    "def Extract(lst, col_num): \n",
    "    return [item[col_num] for item in lst] "
   ]
  },
  {
   "cell_type": "code",
   "execution_count": 77,
   "metadata": {},
   "outputs": [],
   "source": [
    "# Para regresión (Error error cuadrado medio para cortes en tarea)\n",
    "def rss(prom, col, salary):\n",
    "    \"\"\"\n",
    "    Calcula la suma de residuos al cuadrado (RSS)\n",
    "    \"\"\"\n",
    "    #Saca medias\n",
    "    mean_ant_div = []\n",
    "    mean_post_div = []\n",
    "    \n",
    "    for div in range(len(prom)):\n",
    "        ant_div = []\n",
    "        post_div = []\n",
    "        for i in range(len(col)):\n",
    "            if (col[i] < prom[div]):#izq\n",
    "                ant_div.append(salary[i])\n",
    "    \n",
    "            else:#der\n",
    "                post_div.append(salary[i])\n",
    "    \n",
    "        mean_ant_div.append(statistics.mean(ant_div))\n",
    "        mean_post_div.append(statistics.mean(post_div))\n",
    "            \n",
    "    # RSS\n",
    "    rss_arr = []\n",
    "    \n",
    "    #RSS = suma (y-yhat)²    \n",
    "    for div in range(len(prom)):\n",
    "        _rss = 0.0\n",
    "        \n",
    "        for i in range(len(col)):\n",
    "            if (col[i] < prom[div]):\n",
    "                _rss = _rss + (salary[i] - mean_ant_div[div])**2                \n",
    "            else:\n",
    "                _rss = _rss + (salary[i] - mean_post_div[div])**2\n",
    "\n",
    "        rss_arr.append(_rss)\n",
    "        \n",
    "    error_min = min(rss_arr)\n",
    "    error_max = max(rss_arr)\n",
    "    valor_corte = prom[rss_arr.index(min(rss_arr))]\n",
    "\n",
    "    return error_min, error_max, valor_corte"
   ]
  },
  {
   "cell_type": "code",
   "execution_count": 78,
   "metadata": {},
   "outputs": [],
   "source": [
    "#Aquí se juntan las funciones anteriores para correr cada columna\n",
    "def errores(lol, num_col_salary):\n",
    "    errores_min = []\n",
    "    errores_max = []\n",
    "    values_c = []\n",
    "    error_min = 0\n",
    "    error_max = 0\n",
    "    valor = 0\n",
    "    #print(\"lol: \"+str(len(lol)))\n",
    "    for i in range(len(lol[0])-1):\n",
    "        #print(\"lol\" + str(lol[i]))\n",
    "        col = Extract(lol, i)\n",
    "        #print(\"col\" + str(col))\n",
    "        if is_numeric(col[0]):\n",
    "            #print(\"col\" + str(col))\n",
    "            Split_col = unique_vals(lol,i)\n",
    "            Split_col = list(Split_col)\n",
    "            Split_col = sorted(Split_col)\n",
    "            prom=promedio(Split_col)\n",
    "            if (len(prom)>0):\n",
    "                Salary = Extract(lol, num_col_salary)\n",
    "                error_min, error_max, valor = rss(prom, col, Salary)\n",
    "                errores_min.append(error_min)\n",
    "                errores_max.append(error_max)\n",
    "                values_c.append(valor)\n",
    "            \n",
    "    # Minímo valor        \n",
    "    min_error = min(errores_min)\n",
    "    min_val_index = errores_min.index(min(errores_min))\n",
    "\n",
    "    # Valor de corte del mínimo error\n",
    "    corte_val = values_c[min_val_index]\n",
    "\n",
    "    # Indice de la columna con el menor valor\n",
    "    column_name = header[min_val_index]\n",
    "    return min_error, min_val_index, corte_val"
   ]
  },
  {
   "cell_type": "code",
   "execution_count": 79,
   "metadata": {},
   "outputs": [],
   "source": [
    "def find_best_split(rows):\n",
    "    \"\"\"Find the best question to ask by iterating over every feature / value\n",
    "    and calculating the information gain.\"\"\"\n",
    "    best_gain = 0  # keep track of the best information gain\n",
    "    best_question = None  # keep train of the feature / value that produced it\n",
    "    current_uncertainty = gini(rows)\n",
    "    n_features = len(rows[0]) - 1  # number of columns\n",
    "\n",
    "    for col in range(n_features):  # for each feature\n",
    "\n",
    "        values = set([row[col] for row in rows])  # unique values in the column\n",
    "\n",
    "        for val in values:  # for each value\n",
    "\n",
    "            question = Question(col, val)\n",
    "\n",
    "            # try splitting the dataset\n",
    "            true_rows, false_rows = partition(rows, question)\n",
    "\n",
    "            # Skip this split if it doesn't divide the\n",
    "            # dataset.\n",
    "            if len(true_rows) == 0 or len(false_rows) == 0:\n",
    "                continue\n",
    "\n",
    "            # Calculate the information gain from this split\n",
    "            gain = info_gain(true_rows, false_rows, current_uncertainty)\n",
    "\n",
    "            # You actually can use '>' instead of '>=' here\n",
    "            # but I wanted the tree to look a certain way for our\n",
    "            # toy dataset.\n",
    "            if gain >= best_gain:\n",
    "                best_gain, best_question = gain, question\n",
    "\n",
    "    return best_gain, best_question"
   ]
  },
  {
   "cell_type": "code",
   "execution_count": 80,
   "metadata": {},
   "outputs": [],
   "source": [
    "def build_tree_2(rows, poda):\n",
    "    \"\"\"Builds the tree.\n",
    "\n",
    "    Rules of recursion: 1) Believe that it works. 2) Start by checking\n",
    "    for the base case (no further information gain). 3) Prepare for\n",
    "    giant stack traces.\n",
    "    \"\"\"\n",
    "    \n",
    "    # Try partitioing the dataset on each of the unique attribute,\n",
    "    # calculate the information gain,\n",
    "    # and return the question that produces the highest gain.\n",
    "    ###gain, question = find_best_split(rows)\n",
    " #   if(len(rows) > (poda-1)):\n",
    " #     min_error, num_col, c_value  = min_error, name_col, c_value = errores(rows, num_col_salary)\n",
    " #     gain = min_error\n",
    " #       question = Question(num_col, c_value)\n",
    " #   else:\n",
    " #       return Leaf(rows)\n",
    "    gain, question = find_best_split(rows)\n",
    "\n",
    "    # Base case: no further info gain\n",
    "    # Since we can ask no further questions,\n",
    "    # we'll return a leaf.\n",
    "    if gain == 0 or len(rows) < poda:\n",
    "        return Leaf(rows)\n",
    "\n",
    "    # If we reach here, we have found a useful feature / value\n",
    "    # to partition on.\n",
    "    true_rows, false_rows = partition(rows, question)\n",
    "    \n",
    "    \n",
    "    # Recursively build the true branch.\n",
    "    true_branch = build_tree_2(true_rows, poda)\n",
    "\n",
    "    # Recursively build the false branch.\n",
    "    false_branch = build_tree_2(false_rows, poda)\n",
    "\n",
    "    # Return a Question node.\n",
    "    # This records the best feature / value to ask at this point,\n",
    "    # as well as the branches to follow\n",
    "    # dependingo on the answer.\n",
    "    return Decision_Node(question, true_branch, false_branch)"
   ]
  },
  {
   "cell_type": "code",
   "execution_count": 81,
   "metadata": {},
   "outputs": [],
   "source": [
    "# Impresión del árbol\n",
    "def print_tree2(node, spacing=\"\"):\n",
    "    \"\"\"World's most elegant tree printing function.\"\"\"\n",
    "\n",
    "    # Base case: we've reached a leaf\n",
    "    if isinstance(node, Leaf):\n",
    "        print (spacing + \"Predict\", node.predictions)\n",
    "        return\n",
    "\n",
    "    # Print the question at this node\n",
    "    print (spacing + str(node.question))\n",
    "\n",
    "    # Call this function recursively on the true branch\n",
    "    print (spacing + '--> True:')\n",
    "    print_tree2(node.true_branch, spacing + \"  \")\n",
    "\n",
    "    # Call this function recursively on the false branch\n",
    "    print (spacing + '--> False:')\n",
    "    print_tree2(node.false_branch, spacing + \"  \")"
   ]
  },
  {
   "cell_type": "code",
   "execution_count": 82,
   "metadata": {},
   "outputs": [],
   "source": [
    "# Clase hoja, guarda los valores de las etiquetas\n",
    "# En el caso de regresión aquí van los promedios o determinar promedios\n",
    "class Leaf:\n",
    "    \"\"\"A Leaf node classifies data.\n",
    "\n",
    "    This holds a dictionary of class (e.g., \"Apple\") -> number of times\n",
    "    it appears in the rows from the training data that reach this leaf.\n",
    "    \"\"\"\n",
    "\n",
    "    def __init__(self, rows):\n",
    "        self.predictions = class_counts(rows)"
   ]
  },
  {
   "cell_type": "code",
   "execution_count": 83,
   "metadata": {},
   "outputs": [],
   "source": [
    "class Decision_Node:\n",
    "    \"\"\"A Decision Node asks a question.\n",
    "\n",
    "    This holds a reference to the question, and to the two child nodes.\n",
    "    \"\"\"\n",
    "\n",
    "    def __init__(self,\n",
    "                 question,\n",
    "                 true_branch,\n",
    "                 false_branch):\n",
    "        self.question = question\n",
    "        self.true_branch = true_branch\n",
    "        self.false_branch = false_branch"
   ]
  },
  {
   "cell_type": "markdown",
   "metadata": {},
   "source": [
    "### Pruebas"
   ]
  },
  {
   "cell_type": "code",
   "execution_count": 84,
   "metadata": {},
   "outputs": [],
   "source": [
    "num_col_salary = 16"
   ]
  },
  {
   "cell_type": "code",
   "execution_count": 85,
   "metadata": {},
   "outputs": [
    {
     "name": "stdout",
     "output_type": "stream",
     "text": [
      "error min: 115.05847519916081, valor de corte: 4.5\n"
     ]
    }
   ],
   "source": [
    "#Con el campo años\n",
    "Split_years = unique_vals(hitters_lol,6)\n",
    "Split_years = list(Split_years)\n",
    "Split_years = sorted(Split_years)\n",
    "#Split_years\n",
    "# Probando promedios entre valores\n",
    "prom = promedio(Split_years)\n",
    "prom\n",
    "Salary = Extract(hitters_lol, num_col_salary)\n",
    "#Salary\n",
    "# El mejor dato de la división\n",
    "error_min, error_max, val_corte = rss(prom, Extract(hitters_lol,6),Salary)\n",
    "print(\"error min: \" + str(error_min) + \", valor de corte: \" + str(val_corte))"
   ]
  },
  {
   "cell_type": "code",
   "execution_count": 86,
   "metadata": {},
   "outputs": [
    {
     "name": "stdout",
     "output_type": "stream",
     "text": [
      "error min: 160.9715298124983, valor de corte: 117.5\n"
     ]
    }
   ],
   "source": [
    "#Con el campo hits\n",
    "Split_hits = unique_vals(hitters_lol,1)\n",
    "Split_hits = list(Split_hits)\n",
    "Split_hits = sorted(Split_hits)\n",
    "#Split_years\n",
    "# Probando promedios entre valores\n",
    "prom = promedio(Split_hits)\n",
    "prom\n",
    "Salary = Extract(hitters_lol, num_col_salary)\n",
    "#Salary\n",
    "# El mejor dato de la división\n",
    "error_min, error_max, val_corte = rss(prom, Extract(hitters_lol,1),Salary)\n",
    "print(\"error min: \" + str(error_min) + \", valor de corte: \" + str(val_corte))"
   ]
  },
  {
   "cell_type": "code",
   "execution_count": 87,
   "metadata": {},
   "outputs": [],
   "source": [
    "true_rows, false_rows = partition(hitters_lol, Question(6, 4.5))"
   ]
  },
  {
   "cell_type": "code",
   "execution_count": 88,
   "metadata": {},
   "outputs": [
    {
     "data": {
      "text/plain": [
       "(48.97678249450081, 72.6595406653801, 117.5)"
      ]
     },
     "execution_count": 88,
     "metadata": {},
     "output_type": "execute_result"
    }
   ],
   "source": [
    "#Con el campo hits para la rama derecha\n",
    "Split_hits = unique_vals(true_rows,1)\n",
    "Split_hits = list(Split_hits)\n",
    "Split_hits = sorted(Split_hits)\n",
    "#\n",
    "Salary = Extract(true_rows, num_col_salary)\n",
    "Salary\n",
    "#Split_hits\n",
    "prom = promedio(Split_hits)\n",
    "#prom\n",
    "rss(prom, Extract(true_rows,1),Salary)"
   ]
  },
  {
   "cell_type": "code",
   "execution_count": 89,
   "metadata": {},
   "outputs": [
    {
     "data": {
      "text/plain": [
       "(69.87701889391077, 72.6800485480704, 6.5)"
      ]
     },
     "execution_count": 89,
     "metadata": {},
     "output_type": "execute_result"
    }
   ],
   "source": [
    "#Con el campo years para la rama derecha\n",
    "Split_years = unique_vals(true_rows,6)\n",
    "Split_years = list(Split_years)\n",
    "Split_years = sorted(Split_years)\n",
    "#\n",
    "Salary = Extract(true_rows, num_col_salary)\n",
    "Salary\n",
    "#Split_hits\n",
    "prom = promedio(Split_years)\n",
    "#prom\n",
    "rss(prom, Extract(true_rows,6),Salary)"
   ]
  },
  {
   "cell_type": "code",
   "execution_count": 90,
   "metadata": {},
   "outputs": [
    {
     "data": {
      "text/plain": [
       "(33.14306582442718, 38.98184820582178, 3.5)"
      ]
     },
     "execution_count": 90,
     "metadata": {},
     "output_type": "execute_result"
    }
   ],
   "source": [
    "#Con el campo years para la rama izquierda\n",
    "Split_years = unique_vals(false_rows,6)\n",
    "Split_years = list(Split_years)\n",
    "Split_years = sorted(Split_years)\n",
    "#\n",
    "Salary = Extract(false_rows, num_col_salary)\n",
    "Salary\n",
    "#Split_hits\n",
    "prom = promedio(Split_years)\n",
    "#prom\n",
    "rss(prom, Extract(false_rows,6),Salary)"
   ]
  },
  {
   "cell_type": "code",
   "execution_count": 91,
   "metadata": {},
   "outputs": [
    {
     "data": {
      "text/plain": [
       "(33.0145870443409, 42.33821620845311, 15.5)"
      ]
     },
     "execution_count": 91,
     "metadata": {},
     "output_type": "execute_result"
    }
   ],
   "source": [
    "#Con el campo years para la rama izquierda\n",
    "Split_hits = unique_vals(false_rows,1)\n",
    "Split_hits = list(Split_hits)\n",
    "Split_hits = sorted(Split_hits)\n",
    "#\n",
    "Salary = Extract(false_rows, num_col_salary)\n",
    "Salary\n",
    "#Split_hits\n",
    "prom = promedio(Split_hits)\n",
    "#prom\n",
    "rss(prom, Extract(false_rows,1),Salary)"
   ]
  },
  {
   "cell_type": "code",
   "execution_count": 92,
   "metadata": {},
   "outputs": [
    {
     "data": {
      "text/plain": [
       "17"
      ]
     },
     "execution_count": 92,
     "metadata": {},
     "output_type": "execute_result"
    }
   ],
   "source": [
    "num_cols = len(hitters_lol[0]) \n",
    "num_cols"
   ]
  },
  {
   "cell_type": "code",
   "execution_count": 93,
   "metadata": {},
   "outputs": [
    {
     "data": {
      "text/plain": [
       "89.29612127664447"
      ]
     },
     "execution_count": 93,
     "metadata": {},
     "output_type": "execute_result"
    }
   ],
   "source": [
    "min_error, name_col, c_value = errores(hitters_lol, num_col_salary)\n",
    "min_error"
   ]
  },
  {
   "cell_type": "code",
   "execution_count": 94,
   "metadata": {},
   "outputs": [
    {
     "data": {
      "text/plain": [
       "7"
      ]
     },
     "execution_count": 94,
     "metadata": {},
     "output_type": "execute_result"
    }
   ],
   "source": [
    "name_col"
   ]
  },
  {
   "cell_type": "code",
   "execution_count": 95,
   "metadata": {},
   "outputs": [
    {
     "data": {
      "text/plain": [
       "'CAtBat'"
      ]
     },
     "execution_count": 95,
     "metadata": {},
     "output_type": "execute_result"
    }
   ],
   "source": [
    "header[name_col]"
   ]
  },
  {
   "cell_type": "code",
   "execution_count": 96,
   "metadata": {},
   "outputs": [
    {
     "data": {
      "text/plain": [
       "1452.0"
      ]
     },
     "execution_count": 96,
     "metadata": {},
     "output_type": "execute_result"
    }
   ],
   "source": [
    "c_value"
   ]
  },
  {
   "cell_type": "code",
   "execution_count": 97,
   "metadata": {},
   "outputs": [
    {
     "data": {
      "text/plain": [
       "Is CAtBat >= 1452.0?"
      ]
     },
     "execution_count": 97,
     "metadata": {},
     "output_type": "execute_result"
    }
   ],
   "source": [
    "Question(7, c_value)"
   ]
  },
  {
   "cell_type": "markdown",
   "metadata": {},
   "source": [
    "#### Probando para todo el conjunto con las variables Hits y Years"
   ]
  },
  {
   "cell_type": "code",
   "execution_count": 98,
   "metadata": {},
   "outputs": [
    {
     "name": "stdout",
     "output_type": "stream",
     "text": [
      "Is Years >= 4.0?\n",
      "--> True:\n",
      "  Is Hits >= 93.0?\n",
      "  --> True:\n",
      "    Is Hits >= 137.0?\n",
      "    --> True:\n",
      "      Is Years >= 11.0?\n",
      "      --> True:\n",
      "        Predict {6.21460809842219: 2, 6.62007320653036: 2, 6.652863029353349: 1, 6.655011687076089: 1, 6.802394763324309: 1, 6.856461984594589: 1, 6.83876205035226: 1, 7.549609165154529: 1, 6.94857759350234: 1, 7.52911640503463: 1, 7.788418833213139: 1, 6.9077552789821395: 3, 7.49554194388426: 1, 6.263398262591621: 1, 6.551080335043401: 1, 7.279318835414621: 1}\n",
      "      --> False:\n",
      "        Predict {6.24831943200756: 1, 6.639875833826539: 1, 6.437751649736401: 2, 6.417548942418881: 1, 6.703188113240861: 1, 7.090076835776089: 1, 7.207859871432481: 1, 4.6539603501575195: 1, 7.588323677335219: 1, 7.807916628926411: 1, 7.069023426578259: 1, 6.802394763324309: 1, 5.99146454710798: 1, 6.496020557860381: 1, 6.856461984594589: 1, 7.120848494442849: 1, 5.52146091786225: 1, 6.652863029353349: 1, 5.625820933186491: 1, 6.48768401848461: 1, 6.461468176353719: 1, 6.44571981938558: 1, 7.177782416195201: 1, 6.95017567537722: 1, 6.66886337069979: 1, 6.040254711277409: 1, 6.354370040797349: 1, 5.347107530717469: 1, 7.57044325205737: 1, 6.62007320653036: 1, 6.36302810354046: 1, 7.4205789054108: 1, 6.6066501861982205: 2, 5.29831736654804: 1, 6.1633148040346395: 1, 4.4998096703302695: 1, 6.272877006546169: 1, 6.84587987526405: 1, 5.85793315448346: 1, 6.8297937375124205: 1, 7.0475172213573005: 1, 7.17011954344963: 1, 7.377758908227871: 1, 6.866933284461879: 1}\n",
      "    --> False:\n",
      "      Is Years >= 7.0?\n",
      "      --> True:\n",
      "        Predict {6.62007320653036: 4, 6.74523634948436: 4, 6.7742238863576105: 4, 6.51471269087253: 1, 6.28226674689601: 2, 6.38856140554563: 1, 6.194405391104669: 1, 7.3132203870903005: 1, 7.56297782611449: 1, 6.597599896132739: 1, 6.60326608821398: 1, 6.39692965521615: 2, 6.0637852086876105: 1, 6.65070974495767: 1, 4.60517018598809: 1, 7.17011954344963: 1, 6.586171654854669: 1, 7.0760903121111705: 1, 6.37587624601831: 1, 6.65929391968364: 1, 6.68461172766793: 1, 7.1388669999455185: 1, 6.327936783729191: 1, 6.1892902904379: 1, 6.6066501861982205: 1, 5.78894130340415: 1, 6.30991827822652: 1}\n",
      "      --> False:\n",
      "        Predict {6.30991827822652: 2, 6.39692965521615: 1, 6.0282785202307: 1, 5.347107530717469: 1, 5.783825182329741: 1, 5.61677109766657: 1, 6.1633148040346395: 1, 7.1066061377273: 1, 5.04342511691925: 1, 4.471638793363571: 1, 6.9160537512182705: 1, 4.382026634673879: 1, 5.85793315448346: 2, 5.7037824746562: 1, 4.60517018598809: 1, 5.010635294096259: 1, 5.220355825078321: 1, 6.05208916892442: 1, 6.551080335043401: 1, 5.95324333428778: 1}\n",
      "  --> False:\n",
      "    Is Hits >= 47.0?\n",
      "    --> True:\n",
      "      Is Years >= 10.0?\n",
      "      --> True:\n",
      "        Predict {6.1633148040346395: 1, 7.00306545878646: 1, 6.03228734162792: 1, 5.768320995793769: 1, 6.109247582764371: 5, 6.551080335043401: 1, 5.29831736654804: 1, 5.783825182329741: 1, 7.17011954344963: 1, 5.899897353582491: 1, 5.52146091786225: 2, 6.715383386334679: 1, 6.60326608821398: 1, 5.416100402204419: 1, 6.68461172766793: 1, 6.62007320653036: 1, 6.956545443151571: 1, 5.99146454710798: 2, 5.833836578513679: 1, 5.459585514144161: 1}\n",
      "      --> False:\n",
      "        Predict {6.23930071101256: 1, 6.551080335043401: 2, 6.562914322102059: 1, 5.7037824746562: 3, 5.72031177660741: 1, 5.51141058200874: 1, 5.82894561761021: 1, 5.4380793089232: 1, 5.416100402204419: 1, 6.39692965521615: 1, 6.067267510523481: 1, 5.92692602597041: 1, 5.95324333428778: 1, 5.89302447429473: 1, 5.99146454710798: 1, 6.21460809842219: 1, 5.695414224985679: 1, 4.70048036579242: 1, 5.579729825986219: 1, 6.47697236288968: 1, 6.50727771238501: 1, 5.48063892334199: 1, 5.24702407216049: 1, 4.86753445045558: 1, 6.05208916892442: 2, 5.52146091786225: 3, 5.25227342804663: 1, 5.833836578513679: 1, 5.50125821054473: 1, 5.625820933186491: 1, 6.263398262591621: 1}\n",
      "    --> False:\n",
      "      Predict {5.48063892334199: 1, 5.16478597392351: 2, 4.90527477843843: 1, 5.1929568508902095: 1, 5.61677109766657: 2, 5.560681631015531: 1, 5.24702407216049: 1, 5.65832126336946: 1, 6.802394763324309: 1, 6.21460809842219: 1}\n",
      "--> False:\n",
      "  Is Hits >= 82.0?\n",
      "  --> True:\n",
      "    Predict {6.17378610390194: 1, 4.51633897228148: 1, 4.60517018598809: 2, 4.74493212836325: 1, 4.70048036579242: 3, 5.370638028127661: 3, 4.4998096703302695: 1, 4.976733742420571: 2, 5.7037824746562: 1, 5.105945473900579: 2, 5.29831736654804: 2, 5.2729995585637495: 1, 4.8283137373023: 1, 5.899897353582491: 1, 5.31073988654659: 1, 5.010635294096259: 1, 5.16478597392351: 2, 5.14749447681345: 1, 4.5798523780038: 1, 4.9416424226093: 1, 4.90527477843843: 1, 5.04342511691925: 1, 4.6539603501575195: 1, 5.07517381523383: 2, 4.787491742782049: 1}\n",
      "  --> False:\n",
      "    Predict {4.248495242049359: 5, 4.60517018598809: 2, 4.31748811353631: 5, 4.4998096703302695: 4, 4.21212759787848: 1, 4.55387689160054: 1, 5.04342511691925: 1, 4.46014441393783: 1, 4.21950770517611: 1, 4.9199809258281295: 1, 7.662624361479371: 1, 4.787491742782049: 1, 4.9416424226093: 2, 6.824373670043089: 1}\n"
     ]
    }
   ],
   "source": [
    "num_col_salary = 2\n",
    "header = [\"Hits\",\"Years\",\"Salary\"]\n",
    "poda = 50\n",
    "my_tree = build_tree_2(hits_years_lol, poda)\n",
    "print_tree2(my_tree)"
   ]
  },
  {
   "cell_type": "markdown",
   "metadata": {},
   "source": [
    "#### Probando para variables continuas"
   ]
  },
  {
   "cell_type": "code",
   "execution_count": 39,
   "metadata": {},
   "outputs": [],
   "source": [
    "num_col_salary = 16\n",
    "# Column labels.\n",
    "# These are used only to print the tree.\n",
    "header = [\"AtBat\",\"Hits\",\"HmRun\",\"Runs\",\"RBI\",\"Walks\",\"Years\",    \n",
    "          \"CAtBat\",\"CHits\",\"CHmRun\",\"CRuns\",\"CRBI\",\"CWalks\",\n",
    "          \"PutOuts\",\"Assists\",\"Errors\",\"Salary\"]"
   ]
  },
  {
   "cell_type": "code",
   "execution_count": 40,
   "metadata": {},
   "outputs": [
    {
     "name": "stdout",
     "output_type": "stream",
     "text": [
      "Is CAtBat >= 1452.0?\n",
      "--> True:\n",
      "  Is Hits >= 117.5?\n",
      "  --> True:\n",
      "    Is CRBI >= 273.0?\n",
      "    --> True:\n",
      "    --> False:\n",
      "  --> False:\n",
      "--> False:\n",
      "  Is CHits >= 182.0?\n",
      "  --> True:\n",
      "  --> False:\n"
     ]
    }
   ],
   "source": [
    "poda = 80\n",
    "my_tree = build_tree_2(hitters_lol, poda)\n",
    "print_tree2(my_tree)"
   ]
  },
  {
   "cell_type": "code",
   "execution_count": null,
   "metadata": {},
   "outputs": [],
   "source": []
  },
  {
   "cell_type": "code",
   "execution_count": null,
   "metadata": {},
   "outputs": [],
   "source": []
  }
 ],
 "metadata": {
  "kernelspec": {
   "display_name": "Python 3",
   "language": "python",
   "name": "python3"
  },
  "language_info": {
   "codemirror_mode": {
    "name": "ipython",
    "version": 3
   },
   "file_extension": ".py",
   "mimetype": "text/x-python",
   "name": "python",
   "nbconvert_exporter": "python",
   "pygments_lexer": "ipython3",
   "version": "3.7.6"
  }
 },
 "nbformat": 4,
 "nbformat_minor": 4
}
